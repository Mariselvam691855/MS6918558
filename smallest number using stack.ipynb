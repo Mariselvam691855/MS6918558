{
 "cells": [
  {
   "cell_type": "code",
   "execution_count": 2,
   "id": "a8b4fac6",
   "metadata": {},
   "outputs": [
    {
     "name": "stdout",
     "output_type": "stream",
     "text": [
      "1\n"
     ]
    }
   ],
   "source": [
    "class Stack:\n",
    "    def __init__(self):\n",
    "        self.items = []\n",
    "        self.min_items = []   \n",
    "        \n",
    "    def push(self, item):\n",
    "        self.items.append(item)\n",
    "        if not self.min_items or item <= self.min_items[-1]: \n",
    "            self.min_items.append(item)\n",
    "        \n",
    "    def pop(self):\n",
    "        if self.items:\n",
    "            item = self.items.pop()\n",
    "            if item == self.min_items[-1]:\n",
    "                self.min_items.pop()\n",
    "            return item\n",
    "    \n",
    "    def get_min(self):\n",
    "        if self.min_items:\n",
    "            return self.min_items[-1]\n",
    "        \n",
    "if __name__ == '__main__':\n",
    "    s = Stack()\n",
    "    s.push(4)\n",
    "    s.push(2)\n",
    "    s.push(5)\n",
    "    s.push(1)\n",
    "    print(s.get_min())"
   ]
  }
 ],
 "metadata": {
  "kernelspec": {
   "display_name": "Python 3 (ipykernel)",
   "language": "python",
   "name": "python3"
  },
  "language_info": {
   "codemirror_mode": {
    "name": "ipython",
    "version": 3
   },
   "file_extension": ".py",
   "mimetype": "text/x-python",
   "name": "python",
   "nbconvert_exporter": "python",
   "pygments_lexer": "ipython3",
   "version": "3.11.1"
  }
 },
 "nbformat": 4,
 "nbformat_minor": 5
}
