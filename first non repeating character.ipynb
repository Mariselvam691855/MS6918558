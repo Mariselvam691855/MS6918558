{
 "cells": [
  {
   "cell_type": "code",
   "execution_count": 5,
   "id": "6e16fd80",
   "metadata": {},
   "outputs": [
    {
     "name": "stdout",
     "output_type": "stream",
     "text": [
      "First non repeating character is   e\n"
     ]
    }
   ],
   "source": [
    "string = \"edyoda\"\n",
    "index = -1\n",
    "fun = \" \"\n",
    "\n",
    "for i in string:\n",
    "    if string.count(i) == 1:\n",
    "        fun += i\n",
    "        break\n",
    "    else:\n",
    "        index += 1\n",
    "\n",
    "if index == 1:\n",
    "    print(\"Either all characters are repeating or string is empty\")\n",
    "else:\n",
    "    print(\"First non repeating character is \", fun)"
   ]
  }
 ],
 "metadata": {
  "kernelspec": {
   "display_name": "Python 3 (ipykernel)",
   "language": "python",
   "name": "python3"
  },
  "language_info": {
   "codemirror_mode": {
    "name": "ipython",
    "version": 3
   },
   "file_extension": ".py",
   "mimetype": "text/x-python",
   "name": "python",
   "nbconvert_exporter": "python",
   "pygments_lexer": "ipython3",
   "version": "3.11.1"
  }
 },
 "nbformat": 4,
 "nbformat_minor": 5
}
