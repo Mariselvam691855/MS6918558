{
 "cells": [
  {
   "cell_type": "code",
   "execution_count": 3,
   "id": "c2081578",
   "metadata": {},
   "outputs": [
    {
     "name": "stdout",
     "output_type": "stream",
     "text": [
      "move 1 from source A to destination C\n",
      "move disk 2 from source A to destination B\n",
      "move 1 from source C to destination B\n",
      "move disk 3 from source A to destination C\n",
      "move 1 from source B to destination A\n",
      "move disk 2 from source B to destination C\n",
      "move 1 from source A to destination C\n",
      "move disk 4 from source A to destination B\n",
      "move 1 from source C to destination B\n",
      "move disk 2 from source C to destination A\n",
      "move 1 from source B to destination A\n",
      "move disk 3 from source C to destination B\n",
      "move 1 from source A to destination C\n",
      "move disk 2 from source A to destination B\n",
      "move 1 from source C to destination B\n"
     ]
    }
   ],
   "source": [
    "def Towerofhanoi(n, source, destination, auxiliary):\n",
    "    if n == 1:\n",
    "        print(\"move 1 from source\", source, \"to destination\", destination)\n",
    "        return\n",
    "    Towerofhanoi(n-1, source, auxiliary, destination)\n",
    "    print(\"move disk\",n, \"from source\", source, \"to destination\", destination)\n",
    "    Towerofhanoi(n-1, auxiliary, destination, source)\n",
    "    \n",
    "n = 4\n",
    "Towerofhanoi(n, 'A', 'B', 'C')"
   ]
  }
 ],
 "metadata": {
  "kernelspec": {
   "display_name": "Python 3 (ipykernel)",
   "language": "python",
   "name": "python3"
  },
  "language_info": {
   "codemirror_mode": {
    "name": "ipython",
    "version": 3
   },
   "file_extension": ".py",
   "mimetype": "text/x-python",
   "name": "python",
   "nbconvert_exporter": "python",
   "pygments_lexer": "ipython3",
   "version": "3.11.1"
  }
 },
 "nbformat": 4,
 "nbformat_minor": 5
}
