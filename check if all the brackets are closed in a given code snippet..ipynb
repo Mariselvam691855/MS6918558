{
 "cells": [
  {
   "cell_type": "code",
   "execution_count": 1,
   "id": "acbdb55b",
   "metadata": {},
   "outputs": [
    {
     "name": "stdout",
     "output_type": "stream",
     "text": [
      "True\n",
      "True\n",
      "True\n"
     ]
    }
   ],
   "source": [
    "class Stack:\n",
    "    def __init__(self):\n",
    "        self.items = []\n",
    "        \n",
    "    def push(self, item):\n",
    "        self.items.append(item)\n",
    "        \n",
    "    def pop(self):\n",
    "        if self.items:\n",
    "            return self.items.pop()\n",
    "        \n",
    "    def is_empty(self):\n",
    "        return not bool(self.items)\n",
    "\n",
    "def is_balanced(code):\n",
    "    stack = Stack()\n",
    "    for char in code:\n",
    "        if char in '({[':\n",
    "            stack.push(char)\n",
    "        elif char in ')}]':\n",
    "            if stack.is_empty():\n",
    "                return False\n",
    "            opening = stack.pop()\n",
    "            if opening == '(' and char != ')':\n",
    "                return False\n",
    "            elif opening == '{' and char != '}':\n",
    "                return False\n",
    "            elif opening == '[' and char != ']':\n",
    "                return False\n",
    "    return stack.is_empty()\n",
    "            \n",
    "if __name__ == '__main__':\n",
    "    code1 = 'print(\"Hello, world!\")'\n",
    "    print(is_balanced(code1))  # output: True\n",
    "    \n",
    "    code2 = 'for i in range(10):'\n",
    "    print(is_balanced(code2))  # output: False\n",
    "    \n",
    "    code3 = 'def my_func():\\n    if True:\\n        return True\\n    else:\\n        return False\\n'\n",
    "    print(is_balanced(code3))  # output: True"
   ]
  },
  {
   "cell_type": "code",
   "execution_count": null,
   "id": "8af15d0a",
   "metadata": {},
   "outputs": [],
   "source": []
  }
 ],
 "metadata": {
  "kernelspec": {
   "display_name": "Python 3 (ipykernel)",
   "language": "python",
   "name": "python3"
  },
  "language_info": {
   "codemirror_mode": {
    "name": "ipython",
    "version": 3
   },
   "file_extension": ".py",
   "mimetype": "text/x-python",
   "name": "python",
   "nbconvert_exporter": "python",
   "pygments_lexer": "ipython3",
   "version": "3.11.1"
  }
 },
 "nbformat": 4,
 "nbformat_minor": 5
}
