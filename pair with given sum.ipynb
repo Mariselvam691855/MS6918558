{
 "cells": [
  {
   "cell_type": "code",
   "execution_count": 4,
   "id": "77594623",
   "metadata": {},
   "outputs": [
    {
     "name": "stdout",
     "output_type": "stream",
     "text": [
      "Array =  [5, 4, 6, 2, 1, 3, 7, 8]\n",
      "pair sum is :  8\n",
      "5 3\n",
      "4 4\n",
      "6 2\n",
      "1 7\n"
     ]
    }
   ],
   "source": [
    "def find(array, len, summ):\n",
    "    print(\"pair sum is : \", summ)\n",
    "    for i in range(len):\n",
    "        for j in range(i, len):\n",
    "            if (array[i] + array[j]) == summ:\n",
    "                print(array[i], array[j])\n",
    "                \n",
    "array = [5, 4, 6, 2, 1, 3, 7, 8]\n",
    "summ = 8\n",
    "\n",
    "print(\"Array = \", array)\n",
    "\n",
    "find(array, len(array), summ)"
   ]
  }
 ],
 "metadata": {
  "kernelspec": {
   "display_name": "Python 3 (ipykernel)",
   "language": "python",
   "name": "python3"
  },
  "language_info": {
   "codemirror_mode": {
    "name": "ipython",
    "version": 3
   },
   "file_extension": ".py",
   "mimetype": "text/x-python",
   "name": "python",
   "nbconvert_exporter": "python",
   "pygments_lexer": "ipython3",
   "version": "3.11.1"
  }
 },
 "nbformat": 4,
 "nbformat_minor": 5
}
