{
 "cells": [
  {
   "cell_type": "code",
   "execution_count": 6,
   "id": "fd67f267",
   "metadata": {},
   "outputs": [
    {
     "name": "stdout",
     "output_type": "stream",
     "text": [
      "strings are rotation of each other\n"
     ]
    }
   ],
   "source": [
    "def checkstring(s1, s2, indexfound, size):\n",
    "    for i in range(size):\n",
    "        if(s1[i] != s2[(indexfound + i)% size]):\n",
    "            return False\n",
    "    return True\n",
    "\n",
    "s1 = \"abcd\"\n",
    "s2 = \"cdab\"\n",
    "\n",
    "if(len(s1) != len(s2)):\n",
    "    print(\"s2 is not a rotation on s1\")\n",
    "else:\n",
    "    indexes = []\n",
    "    size = len(s1)\n",
    "    firstchar = s1[0]\n",
    "    for i in range(size):\n",
    "        if(s2[i] == firstchar):\n",
    "            indexes.append(i)\n",
    "    isrotation = False\n",
    "    \n",
    "    for idx in indexes:\n",
    "        isrotation = checkstring(s1, s2, idx, size)\n",
    "        if(isrotation):\n",
    "            break\n",
    "    if(isrotation):\n",
    "        print(\"strings are rotation of each other\")\n",
    "    else:\n",
    "        print(\"strings are not in rotaion of each other\")\n",
    "    "
   ]
  },
  {
   "cell_type": "code",
   "execution_count": null,
   "id": "fc14708d",
   "metadata": {},
   "outputs": [],
   "source": []
  },
  {
   "cell_type": "code",
   "execution_count": null,
   "id": "a245f5e1",
   "metadata": {},
   "outputs": [],
   "source": []
  }
 ],
 "metadata": {
  "kernelspec": {
   "display_name": "Python 3 (ipykernel)",
   "language": "python",
   "name": "python3"
  },
  "language_info": {
   "codemirror_mode": {
    "name": "ipython",
    "version": 3
   },
   "file_extension": ".py",
   "mimetype": "text/x-python",
   "name": "python",
   "nbconvert_exporter": "python",
   "pygments_lexer": "ipython3",
   "version": "3.11.1"
  }
 },
 "nbformat": 4,
 "nbformat_minor": 5
}
